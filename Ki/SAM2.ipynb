{
 "cells": [
  {
   "cell_type": "code",
   "execution_count": 1,
   "metadata": {},
   "outputs": [
    {
     "name": "stdout",
     "output_type": "stream",
     "text": [
      "HOME: /\n"
     ]
    }
   ],
   "source": [
    "import os\n",
    "HOME = os.getcwd()\n",
    "print(\"HOME:\", HOME)"
   ]
  },
  {
   "cell_type": "code",
   "execution_count": 2,
   "metadata": {},
   "outputs": [
    {
     "name": "stdout",
     "output_type": "stream",
     "text": [
      "Cloning into 'segment-anything-2'...\n",
      "remote: Enumerating objects: 974, done.\u001b[K\n",
      "remote: Counting objects: 100% (38/38), done.\u001b[K\n",
      "remote: Compressing objects: 100% (30/30), done.\u001b[K\n",
      "remote: Total 974 (delta 17), reused 20 (delta 7), pack-reused 936 (from 1)\u001b[K\n",
      "Receiving objects: 100% (974/974), 128.94 MiB | 17.53 MiB/s, done.\n",
      "Resolving deltas: 100% (334/334), done.\n",
      "/segment-anything-2\n",
      "\u001b[33mWARNING: Running pip as the 'root' user can result in broken permissions and conflicting behaviour with the system package manager. It is recommended to use a virtual environment instead: https://pip.pypa.io/warnings/venv\u001b[0m\u001b[33m\n",
      "\u001b[0m"
     ]
    }
   ],
   "source": [
    "!git clone https://github.com/facebookresearch/segment-anything-2.git\n",
    "%cd {HOME}/segment-anything-2\n",
    "!pip install -e . -q"
   ]
  },
  {
   "cell_type": "code",
   "execution_count": 3,
   "metadata": {},
   "outputs": [
    {
     "name": "stdout",
     "output_type": "stream",
     "text": [
      "\u001b[33mWARNING: Running pip as the 'root' user can result in broken permissions and conflicting behaviour with the system package manager. It is recommended to use a virtual environment instead: https://pip.pypa.io/warnings/venv\u001b[0m\u001b[33m\n",
      "\u001b[0m"
     ]
    }
   ],
   "source": [
    "!pip install -q supervision jupyter_bbox_widget"
   ]
  },
  {
   "cell_type": "code",
   "execution_count": 4,
   "metadata": {},
   "outputs": [],
   "source": [
    "!mkdir -p {HOME}/checkpoints\n",
    "!wget -q https://dl.fbaipublicfiles.com/segment_anything_2/072824/sam2_hiera_tiny.pt -P {HOME}/checkpoints\n",
    "!wget -q https://dl.fbaipublicfiles.com/segment_anything_2/072824/sam2_hiera_small.pt -P {HOME}/checkpoints\n",
    "!wget -q https://dl.fbaipublicfiles.com/segment_anything_2/072824/sam2_hiera_base_plus.pt -P {HOME}/checkpoints\n",
    "!wget -q https://dl.fbaipublicfiles.com/segment_anything_2/072824/sam2_hiera_large.pt -P {HOME}/checkpoints"
   ]
  },
  {
   "cell_type": "code",
   "execution_count": 5,
   "metadata": {},
   "outputs": [],
   "source": [
    "import cv2\n",
    "import torch\n",
    "import base64\n",
    "\n",
    "import numpy as np\n",
    "import supervision as sv\n",
    "\n",
    "from sam2.build_sam import build_sam2\n",
    "from sam2.sam2_image_predictor import SAM2ImagePredictor\n",
    "from sam2.automatic_mask_generator import SAM2AutomaticMaskGenerator"
   ]
  },
  {
   "cell_type": "code",
   "execution_count": 6,
   "metadata": {},
   "outputs": [],
   "source": [
    "torch.autocast(device_type=\"cuda\", dtype=torch.bfloat16).__enter__()\n",
    "\n",
    "if torch.cuda.get_device_properties(0).major >= 8:\n",
    "    torch.backends.cuda.matmul.allow_tf32 = True\n",
    "    torch.backends.cudnn.allow_tf32 = True"
   ]
  },
  {
   "cell_type": "code",
   "execution_count": 7,
   "metadata": {},
   "outputs": [],
   "source": [
    "DEVICE = torch.device('cuda' if torch.cuda.is_available() else 'cpu')\n",
    "CHECKPOINT = f\"{HOME}/checkpoints/sam2_hiera_large.pt\"\n",
    "CONFIG = \"sam2_hiera_l.yaml\"\n",
    "\n",
    "sam2_model = build_sam2(CONFIG, CHECKPOINT, device=DEVICE, apply_postprocessing=False)"
   ]
  },
  {
   "cell_type": "code",
   "execution_count": 8,
   "metadata": {},
   "outputs": [],
   "source": [
    "mask_generator = SAM2AutomaticMaskGenerator(sam2_model)"
   ]
  },
  {
   "cell_type": "code",
   "execution_count": 17,
   "metadata": {},
   "outputs": [
    {
     "name": "stdout",
     "output_type": "stream",
     "text": [
      "/home\n"
     ]
    }
   ],
   "source": [
    "%cd home"
   ]
  },
  {
   "cell_type": "code",
   "execution_count": 18,
   "metadata": {},
   "outputs": [
    {
     "name": "stdout",
     "output_type": "stream",
     "text": [
      "Receipt-only images saved in ./datasets/seg_images/train\n"
     ]
    }
   ],
   "source": [
    "IMAGE_DIR = f\"./datasets/images/train\"  \n",
    "OUTPUT_DIR = f\"./datasets/seg_images/train\"  \n",
    "MASK_OUTPUT_DIR = f\"./datasets/new_masks/train\"  \n",
    "\n",
    "os.makedirs(OUTPUT_DIR, exist_ok=True)\n",
    "os.makedirs(MASK_OUTPUT_DIR, exist_ok=True)\n",
    "\n",
    "def process_images_in_directory(image_dir, mask_output_dir, output_dir):\n",
    "    for image_name in os.listdir(image_dir):\n",
    "        image_path = os.path.join(image_dir, image_name)\n",
    "\n",
    "        image_bgr = cv2.imread(image_path)\n",
    "        if image_bgr is None:\n",
    "            print(f\"Unable to read image {image_path}, skipping.\")\n",
    "            continue\n",
    "        image_rgb = cv2.cvtColor(image_bgr, cv2.COLOR_BGR2RGB)\n",
    "\n",
    "        sam2_result = mask_generator.generate(image_rgb)\n",
    "\n",
    "        save_and_remove_background(image_bgr, sam2_result, image_name, mask_output_dir, output_dir)\n",
    "\n",
    "def save_and_remove_background(image, masks, image_name, mask_output_dir, output_dir):\n",
    "    for i, mask in enumerate(masks):\n",
    "        mask_image = mask['segmentation'].astype(np.uint8) * 255  \n",
    "\n",
    "        mask_filename = os.path.join(mask_output_dir, f\"{os.path.splitext(image_name)[0]}_mask_{i}.png\")\n",
    "        cv2.imwrite(mask_filename, mask_image) \n",
    "\n",
    "        result_with_mask = cv2.bitwise_and(image, image, mask=mask_image)\n",
    "\n",
    "        background = np.full(image.shape, 255, dtype=np.uint8)  \n",
    "        mask_bg = cv2.bitwise_not(mask_image)  \n",
    "        bg_removed_with_mask = cv2.bitwise_and(background, background, mask=mask_bg)\n",
    "\n",
    "        receipt_only_with_mask = cv2.add(result_with_mask, bg_removed_with_mask)\n",
    "\n",
    "        result_filename_with_mask = os.path.join(output_dir, f\"{os.path.splitext(image_name)[0]}_receipt_only_mask_{i}.png\")\n",
    "        cv2.imwrite(result_filename_with_mask, receipt_only_with_mask)\n",
    "\n",
    "        mask_inv = cv2.bitwise_not(mask_image)\n",
    "\n",
    "        result_with_mask_inv = cv2.bitwise_and(image, image, mask=mask_inv)\n",
    "\n",
    "        bg_removed_with_mask_inv = cv2.bitwise_and(background, background, mask=mask_image)\n",
    "\n",
    "        receipt_only_with_mask_inv = cv2.add(result_with_mask_inv, bg_removed_with_mask_inv)\n",
    "\n",
    "        result_filename_with_mask_inv = os.path.join(output_dir, f\"{os.path.splitext(image_name)[0]}_receipt_only_mask_inv_{i}.png\")\n",
    "        cv2.imwrite(result_filename_with_mask_inv, receipt_only_with_mask_inv)\n",
    "\n",
    "process_images_in_directory(IMAGE_DIR, MASK_OUTPUT_DIR, OUTPUT_DIR)\n",
    "\n",
    "print(f\"Receipt-only images saved in {OUTPUT_DIR}\")"
   ]
  },
  {
   "cell_type": "code",
   "execution_count": null,
   "metadata": {},
   "outputs": [],
   "source": [
    "IMAGE_DIR = f\"./datasets/images/train\"  \n",
    "OUTPUT_DIR = f\"./datasets/seg_images/train\" \n",
    "MASK_OUTPUT_DIR = f\"./datasets/new_masks/train\" \n",
    "\n",
    "os.makedirs(OUTPUT_DIR, exist_ok=True)\n",
    "os.makedirs(MASK_OUTPUT_DIR, exist_ok=True)\n",
    "\n",
    "def process_images_in_directory(image_dir, mask_output_dir, output_dir):\n",
    "    for image_name in os.listdir(image_dir):\n",
    "        image_path = os.path.join(image_dir, image_name)\n",
    "\n",
    "        image_bgr = cv2.imread(image_path)\n",
    "        if image_bgr is None:\n",
    "            print(f\"Unable to read image {image_path}, skipping.\")\n",
    "            continue\n",
    "        image_rgb = cv2.cvtColor(image_bgr, cv2.COLOR_BGR2RGB)\n",
    "\n",
    "        sam2_result = mask_generator.generate(image_rgb)\n",
    "\n",
    "        save_and_remove_background(image_bgr, sam2_result, image_name, mask_output_dir, output_dir)\n",
    "\n",
    "def save_and_remove_background(image, masks, image_name, mask_output_dir, output_dir):\n",
    "    for i, mask in enumerate(masks):\n",
    "        mask_image = mask['segmentation'].astype(np.uint8) * 255 \n",
    "\n",
    "        mask_filename = os.path.join(mask_output_dir, f\"{os.path.splitext(image_name)[0]}_mask_{i}.png\")\n",
    "        cv2.imwrite(mask_filename, mask_image) \n",
    "\n",
    "        result_with_mask = cv2.bitwise_and(image, image, mask=mask_image)\n",
    "\n",
    "        background = np.full(image.shape, 255, dtype=np.uint8)  \n",
    "        mask_bg = cv2.bitwise_not(mask_image)  \n",
    "        bg_removed_with_mask = cv2.bitwise_and(background, background, mask=mask_bg)\n",
    "\n",
    "        receipt_only_with_mask = cv2.add(result_with_mask, bg_removed_with_mask)\n",
    "\n",
    "        result_filename_with_mask = os.path.join(output_dir, f\"{os.path.splitext(image_name)[0]}_receipt_only_mask_{i}.png\")\n",
    "        cv2.imwrite(result_filename_with_mask, receipt_only_with_mask)\n",
    "\n",
    "        mask_inv = cv2.bitwise_not(mask_image)\n",
    "\n",
    "        result_with_mask_inv = cv2.bitwise_and(image, image, mask=mask_inv)\n",
    "\n",
    "        bg_removed_with_mask_inv = cv2.bitwise_and(background, background, mask=mask_image)\n",
    "\n",
    "        receipt_only_with_mask_inv = cv2.add(result_with_mask_inv, bg_removed_with_mask_inv)\n",
    "\n",
    "        result_filename_with_mask_inv = os.path.join(output_dir, f\"{os.path.splitext(image_name)[0]}_receipt_only_mask_inv_{i}.png\")\n",
    "        cv2.imwrite(result_filename_with_mask_inv, receipt_only_with_mask_inv)\n",
    "\n",
    "process_images_in_directory(IMAGE_DIR, MASK_OUTPUT_DIR, OUTPUT_DIR)\n",
    "\n",
    "print(f\"Receipt-only images saved in {OUTPUT_DIR}\")"
   ]
  },
  {
   "cell_type": "code",
   "execution_count": 19,
   "metadata": {},
   "outputs": [
    {
     "name": "stdout",
     "output_type": "stream",
     "text": [
      "Receipt-only images saved in ./datasets/seg_images/val\n"
     ]
    }
   ],
   "source": [
    "IMAGE_DIR = f\"./datasets/images/val\" \n",
    "OUTPUT_DIR = f\"./datasets/seg_images/val\"  \n",
    "MASK_OUTPUT_DIR = f\"./datasets/new_masks/val\"  \n",
    "\n",
    "os.makedirs(OUTPUT_DIR, exist_ok=True)\n",
    "os.makedirs(MASK_OUTPUT_DIR, exist_ok=True)\n",
    "\n",
    "def process_images_in_directory(image_dir, mask_output_dir, output_dir):\n",
    "    for image_name in os.listdir(image_dir):\n",
    "        image_path = os.path.join(image_dir, image_name)\n",
    "\n",
    "        image_bgr = cv2.imread(image_path)\n",
    "        if image_bgr is None:\n",
    "            print(f\"Unable to read image {image_path}, skipping.\")\n",
    "            continue\n",
    "        image_rgb = cv2.cvtColor(image_bgr, cv2.COLOR_BGR2RGB)\n",
    "\n",
    "        sam2_result = mask_generator.generate(image_rgb)\n",
    "\n",
    "        save_and_remove_background(image_bgr, sam2_result, image_name, mask_output_dir, output_dir)\n",
    "\n",
    "def save_and_remove_background(image, masks, image_name, mask_output_dir, output_dir):\n",
    "    for i, mask in enumerate(masks):\n",
    "        mask_image = mask['segmentation'].astype(np.uint8) * 255 \n",
    "        \n",
    "        mask_filename = os.path.join(mask_output_dir, f\"{os.path.splitext(image_name)[0]}_mask_{i}.png\")\n",
    "        cv2.imwrite(mask_filename, mask_image)  \n",
    "\n",
    "        result_with_mask = cv2.bitwise_and(image, image, mask=mask_image)\n",
    "\n",
    "        background = np.full(image.shape, 255, dtype=np.uint8)  \n",
    "        mask_bg = cv2.bitwise_not(mask_image)  \n",
    "        bg_removed_with_mask = cv2.bitwise_and(background, background, mask=mask_bg)\n",
    "\n",
    "        receipt_only_with_mask = cv2.add(result_with_mask, bg_removed_with_mask)\n",
    "\n",
    "        result_filename_with_mask = os.path.join(output_dir, f\"{os.path.splitext(image_name)[0]}_receipt_only_mask_{i}.png\")\n",
    "        cv2.imwrite(result_filename_with_mask, receipt_only_with_mask)\n",
    "\n",
    "        mask_inv = cv2.bitwise_not(mask_image)\n",
    "\n",
    "        result_with_mask_inv = cv2.bitwise_and(image, image, mask=mask_inv)\n",
    "\n",
    "        bg_removed_with_mask_inv = cv2.bitwise_and(background, background, mask=mask_image)\n",
    "\n",
    "        receipt_only_with_mask_inv = cv2.add(result_with_mask_inv, bg_removed_with_mask_inv)\n",
    "\n",
    "        result_filename_with_mask_inv = os.path.join(output_dir, f\"{os.path.splitext(image_name)[0]}_receipt_only_mask_inv_{i}.png\")\n",
    "        cv2.imwrite(result_filename_with_mask_inv, receipt_only_with_mask_inv)\n",
    "\n",
    "process_images_in_directory(IMAGE_DIR, MASK_OUTPUT_DIR, OUTPUT_DIR)\n",
    "\n",
    "print(f\"Receipt-only images saved in {OUTPUT_DIR}\")"
   ]
  },
  {
   "cell_type": "code",
   "execution_count": 20,
   "metadata": {},
   "outputs": [
    {
     "name": "stdout",
     "output_type": "stream",
     "text": [
      "Receipt-only images saved in ./datasets/seg_images/test\n"
     ]
    }
   ],
   "source": [
    "IMAGE_DIR = f\"./datasets/images/test\"  \n",
    "OUTPUT_DIR = f\"./datasets/seg_images/test\" \n",
    "MASK_OUTPUT_DIR = f\"./datasets/new_masks/test\"\n",
    "\n",
    "os.makedirs(OUTPUT_DIR, exist_ok=True)\n",
    "os.makedirs(MASK_OUTPUT_DIR, exist_ok=True)\n",
    "\n",
    "def process_images_in_directory(image_dir, mask_output_dir, output_dir):\n",
    "    for image_name in os.listdir(image_dir):\n",
    "        image_path = os.path.join(image_dir, image_name)\n",
    "        \n",
    "        image_bgr = cv2.imread(image_path)\n",
    "        if image_bgr is None:\n",
    "            print(f\"Unable to read image {image_path}, skipping.\")\n",
    "            continue\n",
    "        image_rgb = cv2.cvtColor(image_bgr, cv2.COLOR_BGR2RGB)\n",
    "\n",
    "        sam2_result = mask_generator.generate(image_rgb)\n",
    "\n",
    "        save_and_remove_background(image_bgr, sam2_result, image_name, mask_output_dir, output_dir)\n",
    "\n",
    "def save_and_remove_background(image, masks, image_name, mask_output_dir, output_dir):\n",
    "    for i, mask in enumerate(masks):\n",
    "        mask_image = mask['segmentation'].astype(np.uint8) * 255  \n",
    "\n",
    "        mask_filename = os.path.join(mask_output_dir, f\"{os.path.splitext(image_name)[0]}_mask_{i}.png\")\n",
    "        cv2.imwrite(mask_filename, mask_image)  \n",
    "\n",
    "        result_with_mask = cv2.bitwise_and(image, image, mask=mask_image)\n",
    "\n",
    "        background = np.full(image.shape, 255, dtype=np.uint8)  \n",
    "        mask_bg = cv2.bitwise_not(mask_image) \n",
    "        bg_removed_with_mask = cv2.bitwise_and(background, background, mask=mask_bg)\n",
    "\n",
    "        receipt_only_with_mask = cv2.add(result_with_mask, bg_removed_with_mask)\n",
    "\n",
    "        result_filename_with_mask = os.path.join(output_dir, f\"{os.path.splitext(image_name)[0]}_receipt_only_mask_{i}.png\")\n",
    "        cv2.imwrite(result_filename_with_mask, receipt_only_with_mask)\n",
    "\n",
    "        mask_inv = cv2.bitwise_not(mask_image)\n",
    "\n",
    "        result_with_mask_inv = cv2.bitwise_and(image, image, mask=mask_inv)\n",
    "\n",
    "        bg_removed_with_mask_inv = cv2.bitwise_and(background, background, mask=mask_image)\n",
    "\n",
    "        receipt_only_with_mask_inv = cv2.add(result_with_mask_inv, bg_removed_with_mask_inv)\n",
    "\n",
    "        result_filename_with_mask_inv = os.path.join(output_dir, f\"{os.path.splitext(image_name)[0]}_receipt_only_mask_inv_{i}.png\")\n",
    "        cv2.imwrite(result_filename_with_mask_inv, receipt_only_with_mask_inv)\n",
    "\n",
    "process_images_in_directory(IMAGE_DIR, MASK_OUTPUT_DIR, OUTPUT_DIR)\n",
    "\n",
    "print(f\"Receipt-only images saved in {OUTPUT_DIR}\")"
   ]
  },
  {
   "cell_type": "code",
   "execution_count": null,
   "metadata": {},
   "outputs": [],
   "source": []
  }
 ],
 "metadata": {
  "kernelspec": {
   "display_name": "base",
   "language": "python",
   "name": "python3"
  },
  "language_info": {
   "codemirror_mode": {
    "name": "ipython",
    "version": 3
   },
   "file_extension": ".py",
   "mimetype": "text/x-python",
   "name": "python",
   "nbconvert_exporter": "python",
   "pygments_lexer": "ipython3",
   "version": "3.10.13"
  }
 },
 "nbformat": 4,
 "nbformat_minor": 2
}
