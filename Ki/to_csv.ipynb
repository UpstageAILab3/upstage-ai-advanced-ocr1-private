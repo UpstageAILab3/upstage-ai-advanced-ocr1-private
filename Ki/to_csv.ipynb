{
 "cells": [
  {
   "cell_type": "code",
   "execution_count": 1,
   "metadata": {},
   "outputs": [],
   "source": [
    "import os\n",
    "import csv"
   ]
  },
  {
   "cell_type": "code",
   "execution_count": 2,
   "metadata": {},
   "outputs": [],
   "source": [
    "OUTPUT_DIR = f\"./train\"  \n",
    "CSV_FILENAME = f\"./train_image_filenames.csv\" \n"
   ]
  },
  {
   "cell_type": "code",
   "execution_count": 3,
   "metadata": {},
   "outputs": [],
   "source": [
    "def save_image_filenames_to_csv(output_dir, csv_filename):\n",
    "    image_filenames = []\n",
    "\n",
    "    for file_name in os.listdir(output_dir):\n",
    "        if file_name.endswith(('.png', '.jpg', '.jpeg')):  \n",
    "            image_filenames.append(file_name)\n",
    "\n",
    "    with open(csv_filename, mode='w', newline='') as file:\n",
    "        writer = csv.writer(file)\n",
    "        writer.writerow(['filename'])\n",
    "        for filename in image_filenames:\n",
    "            writer.writerow([filename])\n",
    "\n",
    "    print(f\"Image filenames saved to {csv_filename}\")"
   ]
  },
  {
   "cell_type": "code",
   "execution_count": 4,
   "metadata": {},
   "outputs": [
    {
     "name": "stdout",
     "output_type": "stream",
     "text": [
      "Image filenames saved to ./train_image_filenames.csv\n"
     ]
    }
   ],
   "source": [
    "save_image_filenames_to_csv(OUTPUT_DIR, CSV_FILENAME)"
   ]
  },
  {
   "cell_type": "code",
   "execution_count": null,
   "metadata": {},
   "outputs": [],
   "source": []
  },
  {
   "cell_type": "code",
   "execution_count": 5,
   "metadata": {},
   "outputs": [],
   "source": [
    "OUTPUT_DIR = f\"./val\"  \n",
    "CSV_FILENAME = f\"./val_image_filenames.csv\"  \n"
   ]
  },
  {
   "cell_type": "code",
   "execution_count": 6,
   "metadata": {},
   "outputs": [],
   "source": [
    "def save_image_filenames_to_csv(output_dir, csv_filename):\n",
    "    image_filenames = []\n",
    "\n",
    "    for file_name in os.listdir(output_dir):\n",
    "        if file_name.endswith(('.png', '.jpg', '.jpeg')): \n",
    "            image_filenames.append(file_name)\n",
    "\n",
    "    with open(csv_filename, mode='w', newline='') as file:\n",
    "        writer = csv.writer(file)\n",
    "        writer.writerow(['filename'])  \n",
    "        for filename in image_filenames:\n",
    "            writer.writerow([filename])\n",
    "\n",
    "    print(f\"Image filenames saved to {csv_filename}\")"
   ]
  },
  {
   "cell_type": "code",
   "execution_count": 7,
   "metadata": {},
   "outputs": [
    {
     "name": "stdout",
     "output_type": "stream",
     "text": [
      "Image filenames saved to ./val_image_filenames.csv\n"
     ]
    }
   ],
   "source": [
    "save_image_filenames_to_csv(OUTPUT_DIR, CSV_FILENAME)"
   ]
  },
  {
   "cell_type": "code",
   "execution_count": null,
   "metadata": {},
   "outputs": [],
   "source": []
  },
  {
   "cell_type": "code",
   "execution_count": 8,
   "metadata": {},
   "outputs": [],
   "source": [
    "OUTPUT_DIR = f\"./test\"  \n",
    "CSV_FILENAME = f\"./test_image_filenames.csv\"  \n"
   ]
  },
  {
   "cell_type": "code",
   "execution_count": 9,
   "metadata": {},
   "outputs": [],
   "source": [
    "def save_image_filenames_to_csv(output_dir, csv_filename):\n",
    "    image_filenames = []\n",
    "\n",
    "    for file_name in os.listdir(output_dir):\n",
    "        if file_name.endswith(('.png', '.jpg', '.jpeg')):  \n",
    "            image_filenames.append(file_name)\n",
    "\n",
    "    with open(csv_filename, mode='w', newline='') as file:\n",
    "        writer = csv.writer(file)\n",
    "        writer.writerow(['filename'])\n",
    "        for filename in image_filenames:\n",
    "            writer.writerow([filename])\n",
    "\n",
    "    print(f\"Image filenames saved to {csv_filename}\")"
   ]
  },
  {
   "cell_type": "code",
   "execution_count": null,
   "metadata": {},
   "outputs": [],
   "source": [
    "save_image_filenames_to_csv(OUTPUT_DIR, CSV_FILENAME)"
   ]
  },
  {
   "cell_type": "code",
   "execution_count": null,
   "metadata": {},
   "outputs": [],
   "source": []
  }
 ],
 "metadata": {
  "kernelspec": {
   "display_name": "Python 3",
   "language": "python",
   "name": "python3"
  },
  "language_info": {
   "codemirror_mode": {
    "name": "ipython",
    "version": 3
   },
   "file_extension": ".py",
   "mimetype": "text/x-python",
   "name": "python",
   "nbconvert_exporter": "python",
   "pygments_lexer": "ipython3",
   "version": "undefined.undefined.undefined"
  }
 },
 "nbformat": 4,
 "nbformat_minor": 2
}
